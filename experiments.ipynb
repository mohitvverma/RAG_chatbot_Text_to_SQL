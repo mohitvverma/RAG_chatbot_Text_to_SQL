{
 "cells": [
  {
   "metadata": {},
   "cell_type": "markdown",
   "source": "### Test connection with GraphDB",
   "id": "61a1572764fbcf92"
  },
  {
   "metadata": {
    "ExecuteTime": {
     "end_time": "2024-05-27T06:12:00.581533Z",
     "start_time": "2024-05-27T06:12:00.578930Z"
    }
   },
   "cell_type": "code",
   "source": "from langchain_community.graphs import Neo4jGraph",
   "id": "762e75031b24b1f8",
   "execution_count": 5,
   "outputs": []
  },
  {
   "metadata": {
    "ExecuteTime": {
     "end_time": "2024-05-27T06:12:01.653066Z",
     "start_time": "2024-05-27T06:12:01.008544Z"
    }
   },
   "cell_type": "code",
   "source": [
    "graph = Neo4jGraph(url = 'bolt://localhost:7687',\n",
    "                   username = 'neo4j',\n",
    "                   password = '12345678',\n",
    "                   database = 'neo4j')"
   ],
   "id": "b1fdfe9577e4c5e0",
   "execution_count": 6,
   "outputs": []
  },
  {
   "metadata": {
    "ExecuteTime": {
     "end_time": "2024-05-27T06:12:01.716459Z",
     "start_time": "2024-05-27T06:12:01.655931Z"
    }
   },
   "cell_type": "code",
   "source": [
    "# Match all nodes in the graph\n",
    "cypher = \"\"\"\n",
    "  MATCH (n) \n",
    "  RETURN count(n)\n",
    "  \"\"\"\n",
    "result = graph.query(cypher)\n",
    "result"
   ],
   "id": "9bfa6c21a9858e3b",
   "execution_count": 7,
   "outputs": []
  },
  {
   "metadata": {
    "ExecuteTime": {
     "end_time": "2024-05-27T06:12:02.260038Z",
     "start_time": "2024-05-27T06:12:02.172692Z"
    }
   },
   "cell_type": "code",
   "source": [
    "graph.query(\"\"\"\n",
    "        MATCH (mergedChunk:Chunk {chunkSeqId: $value})\n",
    "        RETURN mergedChunk\n",
    "        ORDER BY rand()\n",
    "        LIMIT 1\n",
    "         \"\"\",\n",
    "params={\"value\": 1})\n",
    "     "
   ],
   "id": "4b9c2f26d7426e28",
   "execution_count": 8,
   "outputs": []
  },
  {
   "metadata": {
    "ExecuteTime": {
     "end_time": "2024-05-27T05:40:03.232312Z",
     "start_time": "2024-05-27T05:40:03.227092Z"
    }
   },
   "cell_type": "code",
   "source": "### Loadiing the data into Database",
   "id": "ab63dfe8586c8abe",
   "execution_count": 53,
   "outputs": []
  },
  {
   "metadata": {
    "ExecuteTime": {
     "end_time": "2024-05-27T06:13:47.638286Z",
     "start_time": "2024-05-27T06:13:47.627460Z"
    }
   },
   "cell_type": "code",
   "source": [
    "import pandas as pd\n",
    "from pyprojroot import here"
   ],
   "id": "9e6498f477890e3b",
   "execution_count": 9,
   "outputs": []
  },
  {
   "metadata": {
    "ExecuteTime": {
     "end_time": "2024-05-27T06:38:08.676337Z",
     "start_time": "2024-05-27T06:38:08.617222Z"
    }
   },
   "cell_type": "code",
   "source": [
    "df = pd.read_csv(\"/Users/mohitverma/Documents/RAG Chatbots/Rag-chatbot graphDB/movie.csv\")\n",
    "df.head(5)"
   ],
   "id": "77657c65b26acd17",
   "execution_count": 39,
   "outputs": []
  },
  {
   "metadata": {
    "ExecuteTime": {
     "end_time": "2024-05-27T06:13:48.641010Z",
     "start_time": "2024-05-27T06:13:48.636932Z"
    }
   },
   "cell_type": "code",
   "source": "df.shape",
   "id": "f5db35bf63edc3e",
   "execution_count": 11,
   "outputs": []
  },
  {
   "metadata": {
    "ExecuteTime": {
     "end_time": "2024-05-27T06:13:49.232189Z",
     "start_time": "2024-05-27T06:13:49.224483Z"
    }
   },
   "cell_type": "code",
   "source": [
    "df2 = pd.read_csv('/Users/mohitverma/Documents/RAG Chatbots/Rag-chatbot graphDB/data 2.csv')\n",
    "df2.head(5)"
   ],
   "id": "ec08b9ef0967be66",
   "execution_count": 12,
   "outputs": []
  },
  {
   "metadata": {
    "ExecuteTime": {
     "end_time": "2024-05-27T06:13:49.772154Z",
     "start_time": "2024-05-27T06:13:49.764482Z"
    }
   },
   "cell_type": "code",
   "source": [
    "df2 = pd.read_csv('/Users/mohitverma/Documents/RAG Chatbots/Rag-chatbot graphDB/data 2.csv')\n",
    "df2.head(5)"
   ],
   "id": "a0bb6323dd179e63",
   "execution_count": 13,
   "outputs": []
  },
  {
   "metadata": {
    "ExecuteTime": {
     "end_time": "2024-05-27T06:13:50.278567Z",
     "start_time": "2024-05-27T06:13:50.272884Z"
    }
   },
   "cell_type": "code",
   "source": "df2.head(5)",
   "id": "645f4390559f26d1",
   "execution_count": 14,
   "outputs": []
  },
  {
   "metadata": {
    "ExecuteTime": {
     "end_time": "2024-05-27T06:13:50.782048Z",
     "start_time": "2024-05-27T06:13:50.778159Z"
    }
   },
   "cell_type": "code",
   "source": [
    "from pyprojroot import here\n",
    "\n",
    "movie_csv_path = here('/Users/mohitverma/Documents/RAG Chatbots/Rag-chatbot graphDB/movie.csv')"
   ],
   "id": "fd6f6e356030febb",
   "execution_count": 15,
   "outputs": []
  },
  {
   "metadata": {
    "ExecuteTime": {
     "end_time": "2024-05-27T06:13:51.403896Z",
     "start_time": "2024-05-27T06:13:51.398257Z"
    }
   },
   "cell_type": "code",
   "source": "df2.tail(5)",
   "id": "78e0d3aa2ed459de",
   "execution_count": 16,
   "outputs": []
  },
  {
   "metadata": {
    "ExecuteTime": {
     "end_time": "2024-05-27T06:13:52.578485Z",
     "start_time": "2024-05-27T06:13:52.575410Z"
    }
   },
   "cell_type": "code",
   "source": "#df['location'] = df2['tagline ']",
   "id": "711e33d0ae46fd70",
   "execution_count": 17,
   "outputs": []
  },
  {
   "metadata": {
    "ExecuteTime": {
     "end_time": "2024-05-27T06:13:54.483020Z",
     "start_time": "2024-05-27T06:13:54.478335Z"
    }
   },
   "cell_type": "code",
   "source": "df.columns",
   "id": "60b6696ae34019b7",
   "execution_count": 18,
   "outputs": []
  },
  {
   "metadata": {
    "ExecuteTime": {
     "end_time": "2024-05-27T06:28:05.868091Z",
     "start_time": "2024-05-27T06:28:05.714722Z"
    }
   },
   "cell_type": "code",
   "source": "!pwd",
   "id": "86ba3205ea3ffc63",
   "execution_count": 31,
   "outputs": []
  },
  {
   "metadata": {
    "ExecuteTime": {
     "end_time": "2024-05-27T06:29:17.302643Z",
     "start_time": "2024-05-27T06:29:17.270210Z"
    }
   },
   "cell_type": "code",
   "source": "pd.read_csv('/Users/mohitverma/Documents/RAG Chatbots/Rag-chatbot graphDB/movies1.csv')",
   "id": "651d30a37a599c16",
   "execution_count": 32,
   "outputs": []
  },
  {
   "metadata": {
    "ExecuteTime": {
     "end_time": "2024-05-27T06:26:55.271329Z",
     "start_time": "2024-05-27T06:26:55.251417Z"
    }
   },
   "cell_type": "code",
   "source": "df.to_csv('movies1.csv')",
   "id": "f0e97e42db0827f0",
   "execution_count": 30,
   "outputs": []
  },
  {
   "metadata": {
    "ExecuteTime": {
     "end_time": "2024-05-27T06:13:54.947145Z",
     "start_time": "2024-05-27T06:13:54.944686Z"
    }
   },
   "cell_type": "code",
   "source": "## Connection with LLM",
   "id": "86891539a088fa40",
   "execution_count": 19,
   "outputs": []
  },
  {
   "metadata": {
    "ExecuteTime": {
     "end_time": "2024-05-27T06:13:55.587009Z",
     "start_time": "2024-05-27T06:13:55.484812Z"
    }
   },
   "cell_type": "code",
   "source": "from langchain.llms import AI21",
   "id": "8c4229c438efb39e",
   "execution_count": 20,
   "outputs": []
  },
  {
   "metadata": {
    "ExecuteTime": {
     "end_time": "2024-05-27T06:38:24.574883Z",
     "start_time": "2024-05-27T06:38:24.556108Z"
    }
   },
   "cell_type": "code",
   "source": "df.columns",
   "id": "90d77413dbc9662e",
   "execution_count": 40,
   "outputs": []
  },
  {
   "metadata": {},
   "cell_type": "markdown",
   "source": "",
   "id": "a2354e6216a34359"
  },
  {
   "metadata": {
    "ExecuteTime": {
     "end_time": "2024-05-27T06:41:19.243798Z",
     "start_time": "2024-05-27T06:41:19.130513Z"
    }
   },
   "cell_type": "code",
   "source": [
    "graph.query(\"\"\"\n",
    "LOAD CSV WITH HEADERS FROM 'file:///' + $movie_directory       // Load the data from csv file $movie_directory\n",
    "AS row                                                         //Each row in the csv file represent as 'row'\n",
    "    \n",
    "MERGE (m:Movie {id:row.movieId} )\n",
    "Set m.released = date(row.released),\n",
    "    m.title = row.title,\n",
    "    m.tagline = row.tagline,\n",
    "    m.imdbRating = toFloat(row.imdbRating)\n",
    "    \n",
    "FOREACH (director in split(row.director, '|') | \n",
    "    MERGE (p:Person {name:trim(director)})\n",
    "    MERGE (p)-[:DIRECTED]->(m))\n",
    "    \n",
    "FOREACH (actor in split(row.actors, '|') | \n",
    "    MERGE (p:Person {name:trim(actor)})\n",
    "    MERGE (p)-[:ACTED_IN]->(m))\n",
    "    \n",
    "FOREACH (genre in split(row.genres, '|') | \n",
    "    MERGE (g:GENRE {name:trim(genre)})\n",
    "    MERGE (m)-[:IN_GENRE]->(g))\n",
    "    \n",
    "MERGE (l:Location {name:trim(row.location)})\n",
    "MERGE (m)-[:WAS_TAKEN_IN]->(l)\n",
    "\n",
    "MERGE (s:SimilarMovie {name:trim(row.similar_movie)})\n",
    "MERGE (m)-[:IS_SIMILAR_TO]->(s)\n",
    "\"\"\",\n",
    "params = {\"movie_directory\": str('/Users/mohitverma/Documents/RAG Chatbots/Rag-chatbot graphDB/movies1.csv')} )"
   ],
   "id": "653353d62fb86e40",
   "execution_count": 41,
   "outputs": []
  },
  {
   "metadata": {
    "ExecuteTime": {
     "end_time": "2024-05-27T06:13:57.567632Z",
     "start_time": "2024-05-27T06:13:57.563227Z"
    }
   },
   "cell_type": "code",
   "source": "str('/Users/mohitverma/Documents/RAG Chatbots/Rag-chatbot graphDB/movie.csv')",
   "id": "226da44766e0af50",
   "execution_count": 22,
   "outputs": []
  },
  {
   "metadata": {},
   "cell_type": "code",
   "source": "",
   "id": "4574e7018d6d3b94",
   "execution_count": null,
   "outputs": []
  },
  {
   "metadata": {},
   "cell_type": "code",
   "source": "",
   "id": "b75d0ea61eb9082c",
   "execution_count": null,
   "outputs": []
  },
  {
   "metadata": {
    "ExecuteTime": {
     "end_time": "2024-05-27T05:29:51.491002Z",
     "start_time": "2024-05-27T05:29:51.488364Z"
    }
   },
   "cell_type": "code",
   "source": "",
   "id": "fa58ac2d957c1d0b",
   "execution_count": 49,
   "outputs": []
  },
  {
   "metadata": {
    "ExecuteTime": {
     "end_time": "2024-05-27T05:29:51.521228Z",
     "start_time": "2024-05-27T05:29:51.518346Z"
    }
   },
   "cell_type": "code",
   "source": "",
   "id": "286967fe49f17913",
   "execution_count": 49,
   "outputs": []
  },
  {
   "metadata": {
    "ExecuteTime": {
     "end_time": "2024-05-27T05:29:51.594362Z",
     "start_time": "2024-05-27T05:29:51.592087Z"
    }
   },
   "cell_type": "code",
   "source": "",
   "id": "a44b64d7a7d88db2",
   "execution_count": 49,
   "outputs": []
  },
  {
   "metadata": {
    "ExecuteTime": {
     "end_time": "2024-05-27T05:29:51.635330Z",
     "start_time": "2024-05-27T05:29:51.632924Z"
    }
   },
   "cell_type": "code",
   "source": "",
   "id": "fa7a96c02127db2",
   "execution_count": 49,
   "outputs": []
  },
  {
   "metadata": {
    "ExecuteTime": {
     "end_time": "2024-05-27T05:29:51.660872Z",
     "start_time": "2024-05-27T05:29:51.658862Z"
    }
   },
   "cell_type": "code",
   "source": "",
   "id": "dc53a1d8411697d9",
   "execution_count": 49,
   "outputs": []
  },
  {
   "metadata": {
    "ExecuteTime": {
     "end_time": "2024-05-27T05:29:51.691921Z",
     "start_time": "2024-05-27T05:29:51.689727Z"
    }
   },
   "cell_type": "code",
   "source": "",
   "id": "d1b80a8e2f16770f",
   "execution_count": 49,
   "outputs": []
  }
 ],
 "metadata": {
  "kernelspec": {
   "display_name": "Python 3",
   "language": "python",
   "name": "python3"
  },
  "language_info": {
   "codemirror_mode": {
    "name": "ipython",
    "version": 2
   },
   "file_extension": ".py",
   "mimetype": "text/x-python",
   "name": "python",
   "nbconvert_exporter": "python",
   "pygments_lexer": "ipython2",
   "version": "2.7.6"
  }
 },
 "nbformat": 4,
 "nbformat_minor": 5
}
